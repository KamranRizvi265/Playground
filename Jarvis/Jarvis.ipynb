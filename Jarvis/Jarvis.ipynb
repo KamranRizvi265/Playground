{
 "cells": [
  {
   "cell_type": "code",
   "execution_count": null,
   "id": "eddf5429",
   "metadata": {},
   "outputs": [],
   "source": [
    "# %pip install pyttsx3\n",
    "# %pip install SpeechRecognition\n",
    "# %pip install pyaudio\n",
    "# %pip install wikipedia"
   ]
  },
  {
   "cell_type": "code",
   "execution_count": 3,
   "id": "2d823010",
   "metadata": {},
   "outputs": [],
   "source": [
    "import pyttsx3\n",
    "import datetime\n",
    "import speech_recognition as sr\n",
    "import wikipedia\n",
    "import webbrowser"
   ]
  },
  {
   "cell_type": "code",
   "execution_count": 4,
   "id": "75d453f9",
   "metadata": {},
   "outputs": [],
   "source": [
    "def speak(text):\n",
    "    engine = pyttsx3.init()\n",
    "    engine.say(text)\n",
    "    engine.runAndWait()"
   ]
  },
  {
   "cell_type": "code",
   "execution_count": 5,
   "id": "185a8cb5",
   "metadata": {},
   "outputs": [],
   "source": [
    "def wishMe():\n",
    "    hour = int(datetime.datetime.now().hour)\n",
    "\n",
    "    if hour >= 0 and hour < 12:\n",
    "        speak(\"Good Morning!\")\n",
    "    elif hour >= 12 and hour < 17:\n",
    "        speak(\"Good Afternoon!\")\n",
    "    else:\n",
    "        speak(\"Good Evening!\")\n",
    "    speak(\"How may I assist you today?\")"
   ]
  },
  {
   "cell_type": "code",
   "execution_count": 6,
   "id": "cc8e7da6",
   "metadata": {},
   "outputs": [],
   "source": [
    "def listen():\n",
    "    r = sr.Recognizer()\n",
    "    with sr.Microphone() as source:\n",
    "        print(\"Listening...\")\n",
    "        audio = r.listen(source)\n",
    "    \n",
    "    try:\n",
    "        print(\"Recognizing...\")\n",
    "        query = r.recognize_google(audio, language = \"en-in\" )\n",
    "        print(f\"User said: {query}\\n\")\n",
    "    \n",
    "    except Exception as e:\n",
    "        print(\"Say that again please\")\n",
    "        query = None\n",
    "\n",
    "    return query"
   ]
  },
  {
   "cell_type": "code",
   "execution_count": 24,
   "id": "fd73a6f7",
   "metadata": {},
   "outputs": [
    {
     "name": "stdout",
     "output_type": "stream",
     "text": [
      "Initializing Jarvis...\n",
      "Listening...\n",
      "Recognizing...\n",
      "User said: open YouTube\n",
      "\n"
     ]
    }
   ],
   "source": [
    "print(\"Initializing Jarvis...\")\n",
    "speak(\"Initializing Jarvis...\")\n",
    "wishMe()\n",
    "query = listen()\n",
    "\n",
    "if 'search' in query.lower():\n",
    "    speak(\"Searching Wikipedia...\")\n",
    "    query = query.replace(\"search\", \"\")\n",
    "    summary = wikipedia.summary(query, sentences=2)\n",
    "    print(summary)\n",
    "    speak(summary)\n",
    "\n",
    "elif 'open youtube' in query.lower():\n",
    "    webbrowser.open(\"https://www.youtube.com\")\n",
    "\n",
    "elif 'open google' in query.lower():\n",
    "    webbrowser.open(\"https://www.google.com\")\n",
    "\n",
    "elif 'open stack overflow' in query.lower():\n",
    "    webbrowser.open(\"https://stackoverflow.com\")\n",
    "\n",
    "elif 'open github' in query.lower():\n",
    "    webbrowser.open(\"https://github.com\")"
   ]
  },
  {
   "cell_type": "code",
   "execution_count": null,
   "id": "14b2d566",
   "metadata": {},
   "outputs": [],
   "source": []
  }
 ],
 "metadata": {
  "kernelspec": {
   "display_name": "Python 3",
   "language": "python",
   "name": "python3"
  },
  "language_info": {
   "codemirror_mode": {
    "name": "ipython",
    "version": 3
   },
   "file_extension": ".py",
   "mimetype": "text/x-python",
   "name": "python",
   "nbconvert_exporter": "python",
   "pygments_lexer": "ipython3",
   "version": "3.13.0"
  }
 },
 "nbformat": 4,
 "nbformat_minor": 5
}
